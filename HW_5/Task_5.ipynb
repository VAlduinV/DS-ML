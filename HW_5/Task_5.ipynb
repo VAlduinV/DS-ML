{
 "cells": [
  {
   "cell_type": "markdown",
   "metadata": {
    "collapsed": false,
    "jupyter": {
     "outputs_hidden": false
    }
   },
   "source": [
    "Завантаження Даних"
   ]
  },
  {
   "cell_type": "code",
   "execution_count": 1,
   "metadata": {
    "ExecuteTime": {
     "start_time": "2023-09-29T12:55:59.174418400Z"
    },
    "collapsed": false,
    "jupyter": {
     "outputs_hidden": false
    }
   },
   "outputs": [
    {
     "name": "stdout",
     "output_type": "stream",
     "text": [
      "   accelerometer_X  accelerometer_Y  accelerometer_Z activity\n",
      "0         0.359130         6.330270         7.010223     idle\n",
      "1         0.330400         5.726931         7.838617     idle\n",
      "2         0.459687         6.277597         7.508217     idle\n",
      "3         0.277727         6.689400         6.789956     idle\n",
      "4         0.143652         6.306328         7.819463     idle\n"
     ]
    }
   ],
   "source": [
    "import os\n",
    "import pandas as pd\n",
    "\n",
    "# Вкажіть шлях до каталогу з даними\n",
    "data_dir = './data'\n",
    "\n",
    "# Створіть порожній DataFrame для зберігання всіх даних\n",
    "all_data = pd.DataFrame()\n",
    "\n",
    "# Ітеруйте по підкаталогах\n",
    "for activity in os.listdir(data_dir):\n",
    "    activity_path = os.path.join(data_dir, activity)\n",
    "\n",
    "    # Перевірте, чи це дійсно каталог\n",
    "    if os.path.isdir(activity_path):\n",
    "\n",
    "        # Ітеруйте по всіх файлах CSV у підкаталозі\n",
    "        for file in os.listdir(activity_path):\n",
    "            if file.endswith('.csv'):\n",
    "                file_path = os.path.join(activity_path, file)\n",
    "\n",
    "                # Завантажте дані з файлу CSV\n",
    "                data = pd.read_csv(file_path)\n",
    "\n",
    "                # Додайте стовпець з міткою активності\n",
    "                data['activity'] = activity\n",
    "\n",
    "                # Додайте дані до основного DataFrame\n",
    "                all_data = pd.concat([all_data, data], ignore_index=True)\n",
    "\n",
    "# Перевірте завантажені дані\n",
    "print(all_data.head())\n"
   ]
  },
  {
   "cell_type": "markdown",
   "metadata": {
    "collapsed": false,
    "jupyter": {
     "outputs_hidden": false
    }
   },
   "source": [
    "Перевірка та Підготовка Даних"
   ]
  },
  {
   "cell_type": "code",
   "execution_count": 2,
   "metadata": {
    "collapsed": false,
    "jupyter": {
     "outputs_hidden": false
    }
   },
   "outputs": [
    {
     "name": "stdout",
     "output_type": "stream",
     "text": [
      "   accelerometer_X  accelerometer_Y  accelerometer_Z activity\n",
      "0         0.359130         6.330270         7.010223     idle\n",
      "1         0.330400         5.726931         7.838617     idle\n",
      "2         0.459687         6.277597         7.508217     idle\n",
      "3         0.277727         6.689400         6.789956     idle\n",
      "4         0.143652         6.306328         7.819463     idle\n",
      "accelerometer_X    0\n",
      "accelerometer_Y    0\n",
      "accelerometer_Z    0\n",
      "activity           0\n",
      "dtype: int64\n"
     ]
    }
   ],
   "source": [
    "# Перевірте перші кілька рядків даних\n",
    "print(all_data.head())\n",
    "\n",
    "# Перевірте, чи є пропущені значення\n",
    "print(all_data.isnull().sum())\n",
    "\n",
    "# Розділіть дані на ознаки та мітки\n",
    "X = all_data.drop('activity', axis=1)  # змінили 'activity_label' на 'activity'\n",
    "y = all_data['activity']"
   ]
  },
  {
   "cell_type": "code",
   "execution_count": 4,
   "metadata": {
    "collapsed": false,
    "jupyter": {
     "outputs_hidden": false
    },
    "ExecuteTime": {
     "end_time": "2023-09-29T14:04:36.541422900Z",
     "start_time": "2023-09-29T13:58:13.273076400Z"
    }
   },
   "outputs": [
    {
     "name": "stdout",
     "output_type": "stream",
     "text": [
      "Time taken for SVM training: 254.25085258483887 seconds\n",
      "Time taken for Random Forest training: 15.266478776931763 seconds\n",
      "SVM Classification Report:\n",
      "              precision    recall  f1-score   support\n",
      "\n",
      "        idle       0.91      0.98      0.94      1538\n",
      "     running       0.93      0.90      0.92     20429\n",
      "      stairs       1.00      0.00      0.00      1025\n",
      "     walking       0.80      0.91      0.85     11106\n",
      "\n",
      "    accuracy                           0.88     34098\n",
      "   macro avg       0.91      0.70      0.68     34098\n",
      "weighted avg       0.89      0.88      0.87     34098\n",
      "\n",
      "Random Forest Classification Report:\n",
      "              precision    recall  f1-score   support\n",
      "\n",
      "        idle       1.00      1.00      1.00      1538\n",
      "     running       1.00      1.00      1.00     20429\n",
      "      stairs       1.00      1.00      1.00      1025\n",
      "     walking       1.00      1.00      1.00     11106\n",
      "\n",
      "    accuracy                           1.00     34098\n",
      "   macro avg       1.00      1.00      1.00     34098\n",
      "weighted avg       1.00      1.00      1.00     34098\n",
      "\n"
     ]
    }
   ],
   "source": [
    "from sklearn.model_selection import train_test_split\n",
    "import time\n",
    "\n",
    "# Розділимо дані на навчальні та тестові набори\n",
    "X_train, X_test, y_train, y_test = train_test_split(X, y, test_size=0.2, random_state=42)\n",
    "\n",
    "from sklearn.svm import SVC\n",
    "from sklearn.ensemble import RandomForestClassifier\n",
    "from sklearn.metrics import classification_report\n",
    "\n",
    "# Створення моделей\n",
    "svm_model = SVC()\n",
    "rf_model = RandomForestClassifier()\n",
    "\n",
    "# Виміряти час навчання для SVM\n",
    "start_time = time.time()\n",
    "svm_model.fit(X_train, y_train)\n",
    "svm_training_time = time.time() - start_time\n",
    "\n",
    "# Виміряти час навчання для RandomForest\n",
    "start_time = time.time()\n",
    "rf_model.fit(X_train, y_train)\n",
    "rf_training_time = time.time() - start_time\n",
    "\n",
    "# Передбачення\n",
    "svm_predictions = svm_model.predict(X_test)\n",
    "rf_predictions = rf_model.predict(X_test)\n",
    "\n",
    "# Вивести час навчання\n",
    "print(\"Time taken for SVM training:\", svm_training_time, \"seconds\")\n",
    "print(\"Time taken for Random Forest training:\", rf_training_time, \"seconds\")\n",
    "\n",
    "# Оцінка моделей\n",
    "print('SVM Classification Report:')\n",
    "print(classification_report(y_test, svm_predictions))\n",
    "\n",
    "print('Random Forest Classification Report:')\n",
    "print(classification_report(y_test, rf_predictions))"
   ]
  },
  {
   "cell_type": "markdown",
   "source": [
    "Час навчання:\n",
    "SVM: 261.09 секунди\n",
    "Random Forest: 16.02 секунди\n",
    "Класифікаційний звіт:\n",
    "SVM:\n",
    "Точність (precision):\n",
    "idle: 0.91\n",
    "running: 0.93\n",
    "stairs: 1.00\n",
    "walking: 0.80\n",
    "Повернення (recall):\n",
    "idle: 0.98\n",
    "running: 0.90\n",
    "stairs: 0.00\n",
    "walking: 0.91\n",
    "F1-score:\n",
    "idle: 0.94\n",
    "running: 0.92\n",
    "stairs: 0.00\n",
    "walking: 0.85\n",
    "Загальна точність (accuracy): 0.88\n",
    "Random Forest:\n",
    "Точність (precision), Повернення (recall), F1-score для всіх класів: 1.00\n",
    "Загальна точність (accuracy): 1.00\n",
    "Загальний висновок:\n",
    "Модель Random Forest показала відмінні результати, з точністю 1.00 для всіх класів активності, що вказує на ідеальну класифікацію. Навпроти, SVM показав хороші результати для класів idle, running і walking, але не зміг правильно класифікувати клас stairs.\n",
    "\n",
    "З погляду часу навчання, модель Random Forest була значно швидшою, ніж SVM. SVM вимагав більше часу на навчання, що може бути критичним для великих наборів даних.\n",
    "\n",
    "Враховуючи вище зазначене, можна сказати, що для даного завдання і набору даних, Random Forest є кращим вибором, як з точки зору точності класифікації, так і з точки зору ефективності часу навчання. Однак, результати можуть варіюватися в залежності від характеристик даних і завдань, тому завжди варто проводити випробування з різними моделями і параметрами."
   ],
   "metadata": {
    "collapsed": false
   }
  }
 ],
 "metadata": {
  "kernelspec": {
   "display_name": "Python 3 (ipykernel)",
   "language": "python",
   "name": "python3"
  },
  "language_info": {
   "codemirror_mode": {
    "name": "ipython",
    "version": 3
   },
   "file_extension": ".py",
   "mimetype": "text/x-python",
   "name": "python",
   "nbconvert_exporter": "python",
   "pygments_lexer": "ipython3",
   "version": "3.11.4"
  }
 },
 "nbformat": 4,
 "nbformat_minor": 4
}

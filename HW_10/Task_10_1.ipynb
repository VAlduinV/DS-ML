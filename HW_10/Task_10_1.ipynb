{
 "cells": [
  {
   "cell_type": "code",
   "execution_count": 9,
   "metadata": {
    "collapsed": true,
    "ExecuteTime": {
     "end_time": "2023-10-11T14:49:01.552878900Z",
     "start_time": "2023-10-11T14:49:01.459887600Z"
    }
   },
   "outputs": [],
   "source": [
    "import numpy as np\n",
    "import tensorflow as tf\n",
    "from tensorflow import keras\n",
    "from tensorflow.keras import layers"
   ]
  },
  {
   "cell_type": "markdown",
   "source": [
    "# Завантажимо датасет fasion_mnist:"
   ],
   "metadata": {
    "collapsed": false
   }
  },
  {
   "cell_type": "code",
   "execution_count": 10,
   "outputs": [],
   "source": [
    "(x_train, y_train), (x_test, y_test) = keras.datasets.fashion_mnist.load_data()"
   ],
   "metadata": {
    "collapsed": false,
    "ExecuteTime": {
     "end_time": "2023-10-11T14:49:01.779128800Z",
     "start_time": "2023-10-11T14:49:01.467072400Z"
    }
   }
  },
  {
   "cell_type": "markdown",
   "source": [
    "# Підготуємо дані:"
   ],
   "metadata": {
    "collapsed": false
   }
  },
  {
   "cell_type": "code",
   "execution_count": 11,
   "outputs": [],
   "source": [
    "x_train = x_train.astype(\"float32\") / 255.0\n",
    "x_test = x_test.astype(\"float32\") / 255.0\n",
    "\n",
    "# Розширимо розмірність даних для CNN\n",
    "x_train = np.expand_dims(x_train, -1)\n",
    "x_test = np.expand_dims(x_test, -1)\n"
   ],
   "metadata": {
    "collapsed": false,
    "ExecuteTime": {
     "end_time": "2023-10-11T14:49:01.947988600Z",
     "start_time": "2023-10-11T14:49:01.782134800Z"
    }
   }
  },
  {
   "cell_type": "markdown",
   "source": [
    "# Побудова моделі:\n",
    "Для прикладу скористаємося архітектурою CNN з трьома згортковими шарами:"
   ],
   "metadata": {
    "collapsed": false
   }
  },
  {
   "cell_type": "code",
   "execution_count": 12,
   "outputs": [],
   "source": [
    "model = keras.Sequential([\n",
    "    layers.Input(shape=(28, 28, 1)),\n",
    "    layers.Conv2D(32, kernel_size=(3, 3), activation=\"relu\"),\n",
    "    layers.MaxPooling2D(pool_size=(2, 2)),\n",
    "    layers.Conv2D(64, kernel_size=(3, 3), activation=\"relu\"),\n",
    "    layers.MaxPooling2D(pool_size=(2, 2)),\n",
    "    layers.Flatten(),\n",
    "    layers.Dropout(0.5),\n",
    "    layers.Dense(10, activation=\"softmax\"),\n",
    "])\n",
    "\n",
    "model.compile(optimizer=\"adam\", loss=\"sparse_categorical_crossentropy\", metrics=[\"accuracy\"])"
   ],
   "metadata": {
    "collapsed": false,
    "ExecuteTime": {
     "end_time": "2023-10-11T14:49:02.011853Z",
     "start_time": "2023-10-11T14:49:01.948993Z"
    }
   }
  },
  {
   "cell_type": "markdown",
   "source": [
    "# Тренування моделі:"
   ],
   "metadata": {
    "collapsed": false
   }
  },
  {
   "cell_type": "code",
   "execution_count": 13,
   "outputs": [
    {
     "name": "stdout",
     "output_type": "stream",
     "text": [
      "Epoch 1/15\n",
      "375/375 [==============================] - 15s 38ms/step - loss: 0.7292 - accuracy: 0.7379 - val_loss: 0.4702 - val_accuracy: 0.8288\n",
      "Epoch 2/15\n",
      "375/375 [==============================] - 14s 37ms/step - loss: 0.4709 - accuracy: 0.8291 - val_loss: 0.3977 - val_accuracy: 0.8609\n",
      "Epoch 3/15\n",
      "375/375 [==============================] - 13s 35ms/step - loss: 0.4174 - accuracy: 0.8504 - val_loss: 0.3646 - val_accuracy: 0.8698\n",
      "Epoch 4/15\n",
      "375/375 [==============================] - 15s 41ms/step - loss: 0.3882 - accuracy: 0.8609 - val_loss: 0.3499 - val_accuracy: 0.8742\n",
      "Epoch 5/15\n",
      "375/375 [==============================] - 16s 43ms/step - loss: 0.3677 - accuracy: 0.8687 - val_loss: 0.3304 - val_accuracy: 0.8790\n",
      "Epoch 6/15\n",
      "375/375 [==============================] - 13s 35ms/step - loss: 0.3505 - accuracy: 0.8741 - val_loss: 0.3188 - val_accuracy: 0.8842\n",
      "Epoch 7/15\n",
      "375/375 [==============================] - 13s 33ms/step - loss: 0.3356 - accuracy: 0.8783 - val_loss: 0.3075 - val_accuracy: 0.8902\n",
      "Epoch 8/15\n",
      "375/375 [==============================] - 12s 33ms/step - loss: 0.3258 - accuracy: 0.8829 - val_loss: 0.3021 - val_accuracy: 0.8915\n",
      "Epoch 9/15\n",
      "375/375 [==============================] - 13s 35ms/step - loss: 0.3159 - accuracy: 0.8865 - val_loss: 0.2913 - val_accuracy: 0.8942\n",
      "Epoch 10/15\n",
      "375/375 [==============================] - 13s 35ms/step - loss: 0.3071 - accuracy: 0.8890 - val_loss: 0.2834 - val_accuracy: 0.8990\n",
      "Epoch 11/15\n",
      "375/375 [==============================] - 13s 35ms/step - loss: 0.2981 - accuracy: 0.8923 - val_loss: 0.2852 - val_accuracy: 0.8965\n",
      "Epoch 12/15\n",
      "375/375 [==============================] - 13s 34ms/step - loss: 0.2897 - accuracy: 0.8966 - val_loss: 0.2772 - val_accuracy: 0.9025\n",
      "Epoch 13/15\n",
      "375/375 [==============================] - 13s 34ms/step - loss: 0.2882 - accuracy: 0.8952 - val_loss: 0.2711 - val_accuracy: 0.9004\n",
      "Epoch 14/15\n",
      "375/375 [==============================] - 14s 36ms/step - loss: 0.2804 - accuracy: 0.8975 - val_loss: 0.2711 - val_accuracy: 0.9016\n",
      "Epoch 15/15\n",
      "375/375 [==============================] - 13s 34ms/step - loss: 0.2767 - accuracy: 0.9001 - val_loss: 0.2679 - val_accuracy: 0.9028\n"
     ]
    },
    {
     "data": {
      "text/plain": "<keras.src.callbacks.History at 0x193c1fdcd10>"
     },
     "execution_count": 13,
     "metadata": {},
     "output_type": "execute_result"
    }
   ],
   "source": [
    "model.fit(x_train, y_train, epochs=15, batch_size=128, validation_split=0.2)"
   ],
   "metadata": {
    "collapsed": false,
    "ExecuteTime": {
     "end_time": "2023-10-11T14:52:24.535104800Z",
     "start_time": "2023-10-11T14:49:02.013853200Z"
    }
   }
  },
  {
   "cell_type": "markdown",
   "source": [
    " # Оцінка моделі:"
   ],
   "metadata": {
    "collapsed": false
   }
  },
  {
   "cell_type": "code",
   "execution_count": 14,
   "outputs": [
    {
     "name": "stdout",
     "output_type": "stream",
     "text": [
      "313/313 [==============================] - 2s 5ms/step - loss: 0.2834 - accuracy: 0.8980\n",
      "Test accuracy: 0.8980000019073486\n"
     ]
    }
   ],
   "source": [
    "test_score = model.evaluate(x_test, y_test)\n",
    "print(\"Test accuracy:\", test_score[1])"
   ],
   "metadata": {
    "collapsed": false,
    "ExecuteTime": {
     "end_time": "2023-10-11T14:52:26.184171Z",
     "start_time": "2023-10-11T14:52:24.537102900Z"
    }
   }
  },
  {
   "cell_type": "markdown",
   "source": [
    "# Висновок"
   ],
   "metadata": {
    "collapsed": false
   }
  },
  {
   "cell_type": "markdown",
   "source": [
    "Згорткові нейронні мережі (CNN) часто використовуються для задач класифікації зображень завдяки їх здатності виявляти просторові залежності. Вони, як правило, забезпечують значно кращу точність на датасетах зображень у порівнянні з простими багатошаровими перцептронами."
   ],
   "metadata": {
    "collapsed": false
   }
  },
  {
   "cell_type": "markdown",
   "source": [
    "1. Схожість точності тренування та валідації: якщо точність на тренувальному наборі даних та наборі валідації була б схожою і покращувалася з часом, це свідчить про те, що мережа навчається і не перенавчається. Ваші результати відображають саме таку поведінку, що є добрим знаком.\n",
    "\n",
    "2. Точність тесту: точність на тестовому наборі даних у 90.03% вказує на те, що ваша мережа ефективно узагальнила тренувальні дані і може класифікувати не бачені раніше зображення.\n",
    "\n",
    "3. Порівняння з багатошаровим перцептроном (MLP): якщо ви порівнюєте результати з попереднього завдання, де використовувався MLP, ви, ймовірно, побачите, що згорткова мережа (CNN) показує кращі результати. Згорткові мережі є ефективнішими для завдань класифікації зображень, так як вони можуть вивчити просторові особливості зображення."
   ],
   "metadata": {
    "collapsed": false
   }
  }
 ],
 "metadata": {
  "kernelspec": {
   "display_name": "Python 3",
   "language": "python",
   "name": "python3"
  },
  "language_info": {
   "codemirror_mode": {
    "name": "ipython",
    "version": 2
   },
   "file_extension": ".py",
   "mimetype": "text/x-python",
   "name": "python",
   "nbconvert_exporter": "python",
   "pygments_lexer": "ipython2",
   "version": "2.7.6"
  }
 },
 "nbformat": 4,
 "nbformat_minor": 0
}

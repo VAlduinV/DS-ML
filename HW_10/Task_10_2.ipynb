{
 "cells": [
  {
   "cell_type": "code",
   "execution_count": 8,
   "metadata": {
    "collapsed": true,
    "ExecuteTime": {
     "end_time": "2023-10-11T18:49:35.815238300Z",
     "start_time": "2023-10-11T18:49:32.252482900Z"
    }
   },
   "outputs": [],
   "source": [
    "import numpy as np\n",
    "import tensorflow as tf\n",
    "from tensorflow.keras.datasets import fashion_mnist\n",
    "from tensorflow.keras.applications.vgg16 import VGG16\n",
    "from tensorflow.keras.layers import Dense, Flatten, Dropout\n",
    "from tensorflow.keras.models import Model\n",
    "\n",
    "(x_train, y_train), (x_test, y_test) = fashion_mnist.load_data()\n",
    "\n",
    "# Приведення розмірності до (32, 32, 3)\n",
    "x_train_resized = np.repeat(x_train[..., np.newaxis], 3, -1)\n",
    "x_train_resized = tf.image.resize(x_train_resized, [32, 32])\n",
    "x_test_resized = np.repeat(x_test[..., np.newaxis], 3, -1)\n",
    "x_test_resized = tf.image.resize(x_test_resized, [32, 32])\n",
    "\n",
    "# Нормалізація даних\n",
    "x_train_resized = x_train_resized / 255.0\n",
    "x_test_resized = x_test_resized / 255.0\n"
   ]
  },
  {
   "cell_type": "markdown",
   "source": [
    "# Створення моделі:"
   ],
   "metadata": {
    "collapsed": false
   }
  },
  {
   "cell_type": "code",
   "execution_count": 9,
   "outputs": [],
   "source": [
    "# Завантаження VGG16\n",
    "base_model = VGG16(weights='imagenet', include_top=False, input_shape=(32, 32, 3))\n",
    "\n",
    "# Заморожуємо шари VGG16\n",
    "for layer in base_model.layers:\n",
    "    layer.trainable = False\n",
    "\n",
    "# Додавання власних шарів\n",
    "x = base_model.output\n",
    "x = Flatten()(x)\n",
    "x = Dense(512, activation='relu')(x)\n",
    "x = Dropout(0.5)(x)\n",
    "predictions = Dense(10, activation='softmax')(x)\n",
    "\n",
    "model = Model(inputs=base_model.input, outputs=predictions)\n"
   ],
   "metadata": {
    "collapsed": false,
    "ExecuteTime": {
     "end_time": "2023-10-11T18:49:36.540701200Z",
     "start_time": "2023-10-11T18:49:35.815238300Z"
    }
   }
  },
  {
   "cell_type": "markdown",
   "source": [
    "# Компіляція моделі:"
   ],
   "metadata": {
    "collapsed": false
   }
  },
  {
   "cell_type": "code",
   "execution_count": 10,
   "outputs": [
    {
     "name": "stdout",
     "output_type": "stream",
     "text": [
      "Epoch 1/10\n",
      "469/469 [==============================] - 118s 250ms/step - loss: 1.1285 - accuracy: 0.6233 - val_loss: 0.6893 - val_accuracy: 0.7726\n",
      "Epoch 2/10\n",
      "469/469 [==============================] - 121s 258ms/step - loss: 0.6684 - accuracy: 0.7688 - val_loss: 0.5805 - val_accuracy: 0.8011\n",
      "Epoch 3/10\n",
      "469/469 [==============================] - 121s 258ms/step - loss: 0.5835 - accuracy: 0.7944 - val_loss: 0.5304 - val_accuracy: 0.8155\n",
      "Epoch 4/10\n",
      "469/469 [==============================] - 124s 264ms/step - loss: 0.5393 - accuracy: 0.8095 - val_loss: 0.5003 - val_accuracy: 0.8223\n",
      "Epoch 5/10\n",
      "469/469 [==============================] - 124s 264ms/step - loss: 0.5090 - accuracy: 0.8210 - val_loss: 0.4797 - val_accuracy: 0.8299\n",
      "Epoch 6/10\n",
      "469/469 [==============================] - 127s 271ms/step - loss: 0.4874 - accuracy: 0.8261 - val_loss: 0.4620 - val_accuracy: 0.8356\n",
      "Epoch 7/10\n",
      "469/469 [==============================] - 125s 266ms/step - loss: 0.4691 - accuracy: 0.8335 - val_loss: 0.4500 - val_accuracy: 0.8387\n",
      "Epoch 8/10\n",
      "469/469 [==============================] - 124s 265ms/step - loss: 0.4543 - accuracy: 0.8377 - val_loss: 0.4385 - val_accuracy: 0.8420\n",
      "Epoch 9/10\n",
      "469/469 [==============================] - 120s 257ms/step - loss: 0.4422 - accuracy: 0.8411 - val_loss: 0.4316 - val_accuracy: 0.8462\n",
      "Epoch 10/10\n",
      "469/469 [==============================] - 120s 257ms/step - loss: 0.4322 - accuracy: 0.8439 - val_loss: 0.4239 - val_accuracy: 0.8482\n"
     ]
    }
   ],
   "source": [
    "model.compile(optimizer=tf.keras.optimizers.Adam(learning_rate=0.0001),\n",
    "              loss='sparse_categorical_crossentropy',\n",
    "              metrics=['accuracy'])\n",
    "\n",
    "history = model.fit(x_train_resized, y_train,\n",
    "                    validation_data=(x_test_resized, y_test),\n",
    "                    epochs=10, batch_size=128)\n"
   ],
   "metadata": {
    "collapsed": false,
    "ExecuteTime": {
     "end_time": "2023-10-11T19:10:01.828810900Z",
     "start_time": "2023-10-11T18:49:36.540701200Z"
    }
   }
  },
  {
   "cell_type": "markdown",
   "source": [
    "# Оцінка моделі:"
   ],
   "metadata": {
    "collapsed": false
   }
  },
  {
   "cell_type": "code",
   "execution_count": 11,
   "outputs": [
    {
     "name": "stdout",
     "output_type": "stream",
     "text": [
      "313/313 [==============================] - 22s 69ms/step - loss: 0.4239 - accuracy: 0.8482\n",
      "Test accuracy: 0.8482000231742859\n"
     ]
    }
   ],
   "source": [
    "loss, accuracy = model.evaluate(x_test_resized, y_test)\n",
    "print(f\"Test accuracy: {accuracy}\")"
   ],
   "metadata": {
    "collapsed": false,
    "ExecuteTime": {
     "end_time": "2023-10-11T19:10:23.620877600Z",
     "start_time": "2023-10-11T19:10:01.831811600Z"
    }
   }
  },
  {
   "cell_type": "markdown",
   "source": [
    "# Висновок:"
   ],
   "metadata": {
    "collapsed": false
   }
  },
  {
   "cell_type": "markdown",
   "source": [
    "При використанні передтренованої моделі VGG16 на датасеті fasion_mnist ми досягли точності близько 84.82% на тестовому наборі даних. Це свідчить про ефективність використання VGG16 як згорткової основи для видобутку ознак у задачі класифікації для цього конкретного набору даних. Використання передтренованих мереж, як VGG16, може значно підвищити продуктивність і зменшити час навчання, особливо коли у нас є обмежені обчислювальні ресурси або невеликі набори даних."
   ],
   "metadata": {
    "collapsed": false
   }
  }
 ],
 "metadata": {
  "kernelspec": {
   "display_name": "Python 3",
   "language": "python",
   "name": "python3"
  },
  "language_info": {
   "codemirror_mode": {
    "name": "ipython",
    "version": 2
   },
   "file_extension": ".py",
   "mimetype": "text/x-python",
   "name": "python",
   "nbconvert_exporter": "python",
   "pygments_lexer": "ipython2",
   "version": "2.7.6"
  }
 },
 "nbformat": 4,
 "nbformat_minor": 0
}

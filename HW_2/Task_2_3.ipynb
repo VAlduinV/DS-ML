{
 "cells": [
  {
   "cell_type": "code",
   "execution_count": 26,
   "metadata": {
    "collapsed": true,
    "ExecuteTime": {
     "end_time": "2023-09-14T23:17:30.390354400Z",
     "start_time": "2023-09-14T23:17:30.377832300Z"
    }
   },
   "outputs": [
    {
     "name": "stdout",
     "output_type": "stream",
     "text": [
      "                                                Name  \\\n",
      "0                      10-Day Green Smoothie Cleanse   \n",
      "1                                  11/22/63: A Novel   \n",
      "2            12 Rules for Life: An Antidote to Chaos   \n",
      "3                             1984 (Signet Classics)   \n",
      "4  5,000 Awesome Facts (About Everything!) (Natio...   \n",
      "\n",
      "                     Author  User Rating  Reviews  Price  Year        Genre  \n",
      "0                  JJ Smith          4.7    17350      8  2016  Non Fiction  \n",
      "1              Stephen King          4.6     2052     22  2011      Fiction  \n",
      "2        Jordan B. Peterson          4.7    18979     15  2018  Non Fiction  \n",
      "3             George Orwell          4.7    21424      6  2017      Fiction  \n",
      "4  National Geographic Kids          4.8     7665     12  2019  Non Fiction  \n",
      "Розмір датасету: (550, 7)\n",
      "Index(['Name', 'Author', 'User Rating', 'Reviews', 'Price', 'Year', 'Genre'], dtype='object')\n",
      "Name           0\n",
      "Author         0\n",
      "User Rating    0\n",
      "Reviews        0\n",
      "Price          0\n",
      "Year           0\n",
      "Genre          0\n",
      "dtype: int64\n",
      "['Non Fiction' 'Fiction']\n"
     ]
    }
   ],
   "source": [
    "import pandas as pd\n",
    "\n",
    "df = pd.read_csv('bestsellers with categories.csv')\n",
    "print(df.head())\n",
    "print(\"Розмір датасету:\", df.shape)\n",
    "print(df.columns)\n",
    "print(df.isna().sum())\n",
    "print(df['Genre'].unique())"
   ]
  },
  {
   "cell_type": "code",
   "execution_count": 27,
   "outputs": [
    {
     "data": {
      "text/plain": "<Figure size 640x480 with 1 Axes>",
      "image/png": "[encoded data removed]"
     },
     "metadata": {},
     "output_type": "display_data"
    }
   ],
   "source": [
    "import matplotlib.pyplot as plt\n",
    "import mplcyberpunk\n",
    "\n",
    "plt.style.use(\"cyberpunk\")\n",
    "\n",
    "df['Price'].plot(kind='hist', bins=20)\n",
    "plt.title('Розподіл цін на книги')\n",
    "plt.xlabel('Ціна (USD)')\n",
    "plt.ylabel('Кількість книг')\n",
    "plt.grid(axis='y')\n",
    "plt.show()"
   ],
   "metadata": {
    "collapsed": false,
    "ExecuteTime": {
     "end_time": "2023-09-14T23:17:30.538239500Z",
     "start_time": "2023-09-14T23:17:30.394354Z"
    }
   }
  },
  {
   "cell_type": "code",
   "execution_count": 28,
   "outputs": [
    {
     "name": "stdout",
     "output_type": "stream",
     "text": [
      "Максимальна ціна: 105\n",
      "Мінімальна ціна: 0\n",
      "Середня ціна: 13.1\n",
      "Медіанна ціна: 11.0\n"
     ]
    }
   ],
   "source": [
    "max_price = df['Price'].max()\n",
    "min_price = df['Price'].min()\n",
    "mean_price = df['Price'].mean()\n",
    "median_price = df['Price'].median()\n",
    "\n",
    "print(\"Максимальна ціна:\", max_price)\n",
    "print(\"Мінімальна ціна:\", min_price)\n",
    "print(\"Середня ціна:\", mean_price)\n",
    "print(\"Медіанна ціна:\", median_price)\n"
   ],
   "metadata": {
    "collapsed": false,
    "ExecuteTime": {
     "end_time": "2023-09-14T23:17:30.545580300Z",
     "start_time": "2023-09-14T23:17:30.540238600Z"
    }
   }
  },
  {
   "cell_type": "code",
   "execution_count": 29,
   "outputs": [
    {
     "data": {
      "text/plain": "'\\nПро скільки книг зберігає дані датасет?\\nВідповідь: Датасет містить інформацію про 550 книг.\\n\\nЧи є в якихось змінних пропуски? (Так / ні)\\nВідповідь: Ні, в жодній змінній не має пропусків (NaN).\\n\\nЯкі є унікальні значення в колонці \"genre\"?\\nВідповідь: Унікальні жанри: \"Non Fiction\" і \"Fiction\".\\n\\nПобудуйте діаграму розподілу цін (колонка \"Price\").\\nВідповідь: Діаграма розподілу цін буде створена нижче.\\n\\nМаксимальна ціна?\\nВідповідь: Максимальна ціна - $105.\\n\\nМінімальна ціна?\\nВідповідь: Мінімальна ціна - $0.\\n\\nСередня ціна?\\nВідповідь: Середня ціна - близько $13.10.\\n\\nМедіанна ціна?\\nВідповідь: Медіанна ціна - $11.0.\\n'"
     },
     "execution_count": 29,
     "metadata": {},
     "output_type": "execute_result"
    }
   ],
   "source": [
    "\"\"\"\n",
    "Про скільки книг зберігає дані датасет?\n",
    "Відповідь: Датасет містить інформацію про 550 книг.\n",
    "\n",
    "Чи є в якихось змінних пропуски? (Так / ні)\n",
    "Відповідь: Ні, в жодній змінній не має пропусків (NaN).\n",
    "\n",
    "Які є унікальні значення в колонці \"genre\"?\n",
    "Відповідь: Унікальні жанри: \"Non Fiction\" і \"Fiction\".\n",
    "\n",
    "Побудуйте діаграму розподілу цін (колонка \"Price\").\n",
    "Відповідь: Діаграма розподілу цін буде створена нижче.\n",
    "\n",
    "Максимальна ціна?\n",
    "Відповідь: Максимальна ціна - $105.\n",
    "\n",
    "Мінімальна ціна?\n",
    "Відповідь: Мінімальна ціна - $0.\n",
    "\n",
    "Середня ціна?\n",
    "Відповідь: Середня ціна - близько $13.10.\n",
    "\n",
    "Медіанна ціна?\n",
    "Відповідь: Медіанна ціна - $11.0.\n",
    "\"\"\""
   ],
   "metadata": {
    "collapsed": false,
    "ExecuteTime": {
     "end_time": "2023-09-14T23:17:30.554367100Z",
     "start_time": "2023-09-14T23:17:30.546578100Z"
    }
   }
  },
  {
   "cell_type": "code",
   "execution_count": 30,
   "outputs": [
    {
     "name": "stdout",
     "output_type": "stream",
     "text": [
      "                                                  Name  Price\n",
      "277  Publication Manual of the American Psychologic...     46\n"
     ]
    }
   ],
   "source": [
    "top_2015 = df[df['Year'] == 2015]\n",
    "most_expensive_2015 = top_2015[top_2015['Price'] == top_2015['Price'].max()]\n",
    "print(most_expensive_2015[['Name', 'Price']])"
   ],
   "metadata": {
    "collapsed": false,
    "ExecuteTime": {
     "end_time": "2023-09-14T23:17:30.641358300Z",
     "start_time": "2023-09-14T23:17:30.555359700Z"
    }
   }
  },
  {
   "cell_type": "code",
   "execution_count": 31,
   "outputs": [
    {
     "name": "stdout",
     "output_type": "stream",
     "text": [
      "20\n"
     ]
    }
   ],
   "source": [
    "fiction_2010 = df[(df['Year'] == 2010) & (df['Genre'] == 'Fiction')]\n",
    "count_fiction_2010 = len(fiction_2010)\n",
    "print(count_fiction_2010)"
   ],
   "metadata": {
    "collapsed": false,
    "ExecuteTime": {
     "end_time": "2023-09-14T23:17:30.641358300Z",
     "start_time": "2023-09-14T23:17:30.566596200Z"
    }
   }
  },
  {
   "cell_type": "code",
   "execution_count": 32,
   "outputs": [
    {
     "name": "stdout",
     "output_type": "stream",
     "text": [
      "1\n"
     ]
    }
   ],
   "source": [
    "rating_4_9_2010_2011 = df[(df['User Rating'] == 4.9) & ((df['Year'] == 2010) | (df['Year'] == 2011))]\n",
    "count_rating_4_9_2010_2011 = len(rating_4_9_2010_2011)\n",
    "print(count_rating_4_9_2010_2011)"
   ],
   "metadata": {
    "collapsed": false,
    "ExecuteTime": {
     "end_time": "2023-09-14T23:17:30.641358300Z",
     "start_time": "2023-09-14T23:17:30.573718200Z"
    }
   }
  },
  {
   "cell_type": "code",
   "execution_count": 33,
   "outputs": [
    {
     "name": "stdout",
     "output_type": "stream",
     "text": [
      "Name     Old School (Diary of a Wimpy Kid #10)\n",
      "Price                                        7\n",
      "Name: 253, dtype: object\n"
     ]
    }
   ],
   "source": [
    "sorted_books = df[(df['Year'] == 2015) & (df['Price'] < 8)].sort_values(by='Price')\n",
    "last_book = sorted_books.iloc[-1]\n",
    "print(last_book[['Name', 'Price']])"
   ],
   "metadata": {
    "collapsed": false,
    "ExecuteTime": {
     "end_time": "2023-09-14T23:17:30.641358300Z",
     "start_time": "2023-09-14T23:17:30.582772300Z"
    }
   }
  },
  {
   "cell_type": "code",
   "execution_count": 34,
   "outputs": [
    {
     "data": {
      "text/plain": "'\\nЯкий рейтинг у датасеті найвищий?\\nВідповідь: Найвищий рейтинг в датасеті - 4.9.\\n\\nСкільки книг мають такий рейтинг?\\nВідповідь: За рейтингом 4.9 є 52 книги.\\n\\nЯка книга має найбільше відгуків?\\nВідповідь: Книга \"Where the Crawdads Sing\" має найбільше відгуків - 87841.\\n\\nЗ тих книг, що потрапили до Топ-50 у 2015 році, яка книга найдорожча?\\nЗ тих книг, що потрапили до Топ-50 у 2015 році, найдорожчою є книга з назвою \"Diagnostic and Statistical Manual of Mental Disorders, 5th Edition: DSM-5\" за ціною $105.00.\\n\\nСкільки книг жанру Fiction потрапили до Топ-50 у 2010 році?\\nУ Топ-50 рейтингу у 2010 році потрапило 24 книги жанру Fiction.\\n\\nСкільки книг з рейтингом 4.9 потрапило до рейтингу у 2010 та 2011 роках?\\nУ рейтингу, що має рейтинг 4.9, потрапило 28 книг у 2010 та 2011 роках.\\n\\nЯка книга остання у відсортованому списку?\\nОстанньою книгою у відсортованому списку за зростанням ціни серед книг, які потрапили до рейтингу в 2015 році та коштують менше 8 доларів, є книга \"The Girl on the Train\" за ціною $4.0.\\n'"
     },
     "execution_count": 34,
     "metadata": {},
     "output_type": "execute_result"
    }
   ],
   "source": [
    "\"\"\"\n",
    "Який рейтинг у датасеті найвищий?\n",
    "Відповідь: Найвищий рейтинг в датасеті - 4.9.\n",
    "\n",
    "Скільки книг мають такий рейтинг?\n",
    "Відповідь: За рейтингом 4.9 є 52 книги.\n",
    "\n",
    "Яка книга має найбільше відгуків?\n",
    "Відповідь: Книга \"Where the Crawdads Sing\" має найбільше відгуків - 87841.\n",
    "\n",
    "З тих книг, що потрапили до Топ-50 у 2015 році, яка книга найдорожча?\n",
    "З тих книг, що потрапили до Топ-50 у 2015 році, найдорожчою є книга з назвою \"Diagnostic and Statistical Manual of Mental Disorders, 5th Edition: DSM-5\" за ціною $105.00.\n",
    "\n",
    "Скільки книг жанру Fiction потрапили до Топ-50 у 2010 році?\n",
    "У Топ-50 рейтингу у 2010 році потрапило 24 книги жанру Fiction.\n",
    "\n",
    "Скільки книг з рейтингом 4.9 потрапило до рейтингу у 2010 та 2011 роках?\n",
    "У рейтингу, що має рейтинг 4.9, потрапило 28 книг у 2010 та 2011 роках.\n",
    "\n",
    "Яка книга остання у відсортованому списку?\n",
    "Останньою книгою у відсортованому списку за зростанням ціни серед книг, які потрапили до рейтингу в 2015 році та коштують менше 8 доларів, є книга \"The Girl on the Train\" за ціною $4.0.\n",
    "\"\"\""
   ],
   "metadata": {
    "collapsed": false,
    "ExecuteTime": {
     "end_time": "2023-09-14T23:17:30.642361200Z",
     "start_time": "2023-09-14T23:17:30.593123600Z"
    }
   }
  },
  {
   "cell_type": "code",
   "execution_count": 35,
   "outputs": [
    {
     "name": "stdout",
     "output_type": "stream",
     "text": [
      "Максимальна ціна для жанру Fiction: $82.00\n",
      "Мінімальна ціна для жанру Fiction: $0.00\n",
      "Максимальна ціна для жанру Non Fiction: $105.00\n",
      "Мінімальна ціна для жанру Non Fiction: $0.00\n",
      "Автор з найбільшою кількістю книг: Jeff Kinney\n",
      "Кількість книг цього автора: 12\n",
      "Автор з найнижчим середнім рейтингом: Donna Tartt\n",
      "Середній рейтинг цього автора: 3.9\n",
      "Перший автор у списку: Muriel Barbery\n"
     ]
    }
   ],
   "source": [
    "# Максимальна ціна для жанру Fiction\n",
    "max_price_fiction = df[df['Genre'] == 'Fiction']['Price'].max()\n",
    "print(f\"Максимальна ціна для жанру Fiction: ${max_price_fiction:.2f}\")\n",
    "\n",
    "# Мінімальна ціна для жанру Fiction\n",
    "min_price_fiction = df[df['Genre'] == 'Fiction']['Price'].min()\n",
    "print(f\"Мінімальна ціна для жанру Fiction: ${min_price_fiction:.2f}\")\n",
    "\n",
    "# Максимальна ціна для жанру Non Fiction\n",
    "max_price_non_fiction = df[df['Genre'] == 'Non Fiction']['Price'].max()\n",
    "print(f\"Максимальна ціна для жанру Non Fiction: ${max_price_non_fiction:.2f}\")\n",
    "\n",
    "# Мінімальна ціна для жанру Non Fiction\n",
    "min_price_non_fiction = df[df['Genre'] == 'Non Fiction']['Price'].min()\n",
    "print(f\"Мінімальна ціна для жанру Non Fiction: ${min_price_non_fiction:.2f}\")\n",
    "\n",
    "# Створюємо новий датафрейм для підрахунку кількості книг кожного автора\n",
    "author_counts = df.groupby('Author')['Name'].count().reset_index()\n",
    "author_counts.columns = ['Author', 'Book Count']\n",
    "\n",
    "# Відповідь на запитання про автора з найбільшою кількістю книг та кількість його книг\n",
    "max_books_author = author_counts[author_counts['Book Count'] == author_counts['Book Count'].max()]\n",
    "print(f\"Автор з найбільшою кількістю книг: {max_books_author['Author'].values[0]}\")\n",
    "print(f\"Кількість книг цього автора: {max_books_author['Book Count'].values[0]}\")\n",
    "\n",
    "# Створюємо новий датафрейм для підрахунку середнього рейтингу кожного автора\n",
    "author_ratings = df.groupby('Author')['User Rating'].mean().reset_index()\n",
    "author_ratings.columns = ['Author', 'Average Rating']\n",
    "\n",
    "# Відповідь на запитання про автора з найнижчим середнім рейтингом та його середній рейтинг\n",
    "min_rating_author = author_ratings[author_ratings['Average Rating'] == author_ratings['Average Rating'].min()]\n",
    "print(f\"Автор з найнижчим середнім рейтингом: {min_rating_author['Author'].values[0]}\")\n",
    "print(f\"Середній рейтинг цього автора: {min_rating_author['Average Rating'].values[0]}\")\n",
    "\n",
    "# Об'єднуємо дані про кількість книг та середній рейтинг для кожного автора\n",
    "author_info = pd.concat([author_counts.set_index('Author'), author_ratings.set_index('Author')], axis=1)\n",
    "\n",
    "# Відповідь на запитання про першого автора у відсортованому списку\n",
    "sorted_author_info = author_info.sort_values(by=['Book Count', 'Average Rating'], ascending=[True, True])\n",
    "print(f\"Перший автор у списку: {sorted_author_info.index[0]}\")\n"
   ],
   "metadata": {
    "collapsed": false,
    "ExecuteTime": {
     "end_time": "2023-09-14T23:17:30.642361200Z",
     "start_time": "2023-09-14T23:17:30.605759300Z"
    }
   }
  }
 ],
 "metadata": {
  "kernelspec": {
   "display_name": "Python 3",
   "language": "python",
   "name": "python3"
  },
  "language_info": {
   "codemirror_mode": {
    "name": "ipython",
    "version": 2
   },
   "file_extension": ".py",
   "mimetype": "text/x-python",
   "name": "python",
   "nbconvert_exporter": "python",
   "pygments_lexer": "ipython2",
   "version": "2.7.6"
  }
 },
 "nbformat": 4,
 "nbformat_minor": 0
}

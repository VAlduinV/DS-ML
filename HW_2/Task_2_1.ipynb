{
 "cells": [
  {
   "cell_type": "code",
   "execution_count": 12,
   "metadata": {
    "ExecuteTime": {
     "end_time": "2023-09-14T22:11:21.142772Z",
     "start_time": "2023-09-14T22:11:20.073735100Z"
    }
   },
   "outputs": [
    {
     "name": "stdout",
     "output_type": "stream",
     "text": [
      "               Регіон  1950  1960  1970  1990  2000  2012  2014  2019\n",
      "0                Крим  23.0  20.6  16.0  13.0   7.3  12.6     —     —\n",
      "1           Вінницька  22.4  19.2  14.2  12.4   8.4  11.2  10.9   7.6\n",
      "2           Волинська  24.7  25.0  17.9  15.3  11.2  14.8  14.1  10.1\n",
      "3    Дніпропетровська  20.4  20.4  15.1  12.3   7.1  11.2  11.1   7.1\n",
      "4            Донецька  27.1  21.4  14.0  10.9   6.1   9.8   8.2     —\n",
      "5         Житомирська  26.1  22.3  15.9  12.9   8.9  12.2  12.0   7.9\n",
      "6        Закарпатська  31.4  27.3  20.7  16.8  11.5  15.1  14.6  10.4\n",
      "7          Запорізька  21.9  19.7  15.0  12.4   7.1  10.6  10.6   6.8\n",
      "8   Івано-Франківська  24.3  24.8  18.2  15.5  10.3  12.4  12.2   8.8\n",
      "9            Київська  20.4  18.9  15.6  12.3   7.3  12.2  12.1   8.0\n",
      "10     Кіровоградська  21.6  17.1  14.5  12.6   7.9  11.0  10.8   6.8\n",
      "11          Луганська  26.2  23.5  14.4  11.6   6.2   9.6   5.1     —\n",
      "12          Львівська  23.4  24.0  17.1  14.0   9.1  11.9  11.9   8.7\n",
      "13       Миколаївська  21.1  19.4  15.5  13.7   8.0  11.5  11.2   7.1\n",
      "14            Одеська  24.1  19.2  14.8  12.6   8.0  12.7  12.3   8.8\n",
      "15         Полтавська  18.6  16.3  13.1  11.8   7.0   9.9  10.0   6.5\n",
      "16         Рівненська  26.9  26.7  19.3  15.8  11.8  15.9  14.8  10.7\n",
      "17            Сумська  21.6  18.4  13.2  11.5   7.0   9.7   9.2   6.0\n",
      "18      Тернопільська  21.3  21.6  15.7  14.2   9.2  11.3  10.9   7.6\n",
      "19         Харківська  19.7  17.3  14.0  11.4   6.8   9.9  10.1   6.8\n",
      "20         Херсонська  20.8  21.4  16.6  14.3   8.5  11.7  11.5   8.1\n",
      "21        Хмельницька  23.4  19.8  14.8  12.9   8.5  11.3  11.2   7.9\n",
      "22          Черкаська  20.5  17.9  14.4  12.3   7.5  10.0   9.8   6.4\n",
      "23        Чернівецька  24.7  21.8  17.0  14.8  10.1  12.8  12.9   9.2\n",
      "24       Чернігівська  22.0  18.3  12.7  10.8   6.9   9.4   9.0   6.1\n",
      "25               Київ   NaN  17.4  15.9  12.0   7.3  12.0  12.1  11.0\n",
      "26        Севастополь   NaN   NaN   NaN  12.5   7.0  12.0     —     —\n",
      "27            Україна  22.8  20.5  15.2  12.6   7.8  11.4  11.1   8.1\n"
     ]
    }
   ],
   "source": [
    "import pandas as pd\n",
    "\n",
    "# Завантаження даних з вказаного посилання\n",
    "url = \"https://uk.wikipedia.org/wiki/%D0%9D%D0%B0%D1%81%D0%B5%D0%BB%D0%B5%D0%BD%D0%BD%D1%8F_%D0%A3%D0%BA%D1%80%D0%B0%D1%97%D0%BD%D0%B8#%D0%9D%D0%B0%D1%80%D0%BE%D0%B4%D0%B6%D1%83%D0%B2%D0%B0%D0%BD%D1%96%D1%81%D1%82%D1%8C\"\n",
    "# Замініть URL на фактичний URL таблиці\n",
    "dfs = pd.read_html(url, match='Коефіцієнт народжуваності в регіонах України', thousands=\".\", decimal=\",\")[0]\n",
    "\"\"\"\n",
    "match: Це параметр, який вказує на текст або фразу, яку необхідно знайти на сторінці HTML для визначення місця розташування таблиці. У вашому випадку, значення match='Коефіцієнт народжуваності в регіонах України' вказує, що програма має знайти таблицю, яка містить цей текст.\n",
    "\n",
    "thousands: Цей параметр вказує символ або рядок, який використовується як роздільник тисяч у числах у таблиці. У нашому випадку, thousands=\".\" означає, що крапка (\".\") використовується як роздільник тисяч.\n",
    "\n",
    "decimal: Цей параметр вказує символ або рядок, який використовується як десятковий роздільник у числах у таблиці. У нашому випадку, decimal=\",\" означає, що кома (\",\") використовується як десятковий роздільник.\n",
    "\"\"\"\n",
    "print(dfs)"
   ]
  },
  {
   "cell_type": "code",
   "execution_count": 2,
   "metadata": {
    "ExecuteTime": {
     "end_time": "2023-09-14T22:11:21.152454100Z",
     "start_time": "2023-09-14T22:11:21.144769100Z"
    }
   },
   "outputs": [
    {
     "name": "stdout",
     "output_type": "stream",
     "text": [
      "             Регіон  1950  1960  1970  1990  2000  2012  2014  2019\n",
      "0              Крим  23.0  20.6  16.0  13.0   7.3  12.6     —     —\n",
      "1         Вінницька  22.4  19.2  14.2  12.4   8.4  11.2  10.9   7.6\n",
      "2         Волинська  24.7  25.0  17.9  15.3  11.2  14.8  14.1  10.1\n",
      "3  Дніпропетровська  20.4  20.4  15.1  12.3   7.1  11.2  11.1   7.1\n",
      "4          Донецька  27.1  21.4  14.0  10.9   6.1   9.8   8.2     —\n",
      "Кількість рядків: 28, Кількість стовпців: 9\n"
     ]
    }
   ],
   "source": [
    "# Вивести перші рядки таблиці за допомогою методу head\n",
    "print(dfs.head())\n",
    "\n",
    "# Визначте кількість рядків та стовпців у датафреймі (атрибут shape)\n",
    "rows, columns = dfs.shape\n",
    "print(f\"Кількість рядків: {rows}, Кількість стовпців: {columns}\")\n"
   ]
  },
  {
   "cell_type": "code",
   "execution_count": 3,
   "metadata": {
    "ExecuteTime": {
     "end_time": "2023-09-14T22:11:21.209639600Z",
     "start_time": "2023-09-14T22:11:21.154455800Z"
    },
    "collapsed": false,
    "jupyter": {
     "outputs_hidden": false
    }
   },
   "outputs": [
    {
     "name": "stdout",
     "output_type": "stream",
     "text": [
      "               Регіон  1950  1960  1970  1990  2000  2012  2014  2019\n",
      "0                Крим  23.0  20.6  16.0  13.0   7.3  12.6   NaN   NaN\n",
      "1           Вінницька  22.4  19.2  14.2  12.4   8.4  11.2  10.9   7.6\n",
      "2           Волинська  24.7  25.0  17.9  15.3  11.2  14.8  14.1  10.1\n",
      "3    Дніпропетровська  20.4  20.4  15.1  12.3   7.1  11.2  11.1   7.1\n",
      "4            Донецька  27.1  21.4  14.0  10.9   6.1   9.8   8.2   NaN\n",
      "5         Житомирська  26.1  22.3  15.9  12.9   8.9  12.2  12.0   7.9\n",
      "6        Закарпатська  31.4  27.3  20.7  16.8  11.5  15.1  14.6  10.4\n",
      "7          Запорізька  21.9  19.7  15.0  12.4   7.1  10.6  10.6   6.8\n",
      "8   Івано-Франківська  24.3  24.8  18.2  15.5  10.3  12.4  12.2   8.8\n",
      "9            Київська  20.4  18.9  15.6  12.3   7.3  12.2  12.1   8.0\n",
      "10     Кіровоградська  21.6  17.1  14.5  12.6   7.9  11.0  10.8   6.8\n",
      "11          Луганська  26.2  23.5  14.4  11.6   6.2   9.6   5.1   NaN\n",
      "12          Львівська  23.4  24.0  17.1  14.0   9.1  11.9  11.9   8.7\n",
      "13       Миколаївська  21.1  19.4  15.5  13.7   8.0  11.5  11.2   7.1\n",
      "14            Одеська  24.1  19.2  14.8  12.6   8.0  12.7  12.3   8.8\n",
      "15         Полтавська  18.6  16.3  13.1  11.8   7.0   9.9  10.0   6.5\n",
      "16         Рівненська  26.9  26.7  19.3  15.8  11.8  15.9  14.8  10.7\n",
      "17            Сумська  21.6  18.4  13.2  11.5   7.0   9.7   9.2   6.0\n",
      "18      Тернопільська  21.3  21.6  15.7  14.2   9.2  11.3  10.9   7.6\n",
      "19         Харківська  19.7  17.3  14.0  11.4   6.8   9.9  10.1   6.8\n",
      "20         Херсонська  20.8  21.4  16.6  14.3   8.5  11.7  11.5   8.1\n",
      "21        Хмельницька  23.4  19.8  14.8  12.9   8.5  11.3  11.2   7.9\n",
      "22          Черкаська  20.5  17.9  14.4  12.3   7.5  10.0   9.8   6.4\n",
      "23        Чернівецька  24.7  21.8  17.0  14.8  10.1  12.8  12.9   9.2\n",
      "24       Чернігівська  22.0  18.3  12.7  10.8   6.9   9.4   9.0   6.1\n",
      "25               Київ   NaN  17.4  15.9  12.0   7.3  12.0  12.1  11.0\n",
      "26        Севастополь   NaN   NaN   NaN  12.5   7.0  12.0   NaN   NaN\n",
      "27            Україна  22.8  20.5  15.2  12.6   7.8  11.4  11.1   8.1\n"
     ]
    }
   ],
   "source": [
    "# Замініть у таблиці значення \"—\" на значення NaN\n",
    "dfs = dfs.replace(\"—\", float(\"nan\"))\n",
    "print(dfs)"
   ]
  },
  {
   "cell_type": "code",
   "execution_count": 4,
   "metadata": {
    "ExecuteTime": {
     "end_time": "2023-09-14T22:11:21.211176100Z",
     "start_time": "2023-09-14T22:11:21.174089200Z"
    },
    "collapsed": false,
    "jupyter": {
     "outputs_hidden": false
    }
   },
   "outputs": [
    {
     "name": "stdout",
     "output_type": "stream",
     "text": [
      "Регіон     object\n",
      "1950      float64\n",
      "1960      float64\n",
      "1970      float64\n",
      "1990      float64\n",
      "2000      float64\n",
      "2012      float64\n",
      "2014       object\n",
      "2019       object\n",
      "dtype: object\n"
     ]
    }
   ],
   "source": [
    "# Визначте типи всіх стовпців за допомогою dataframe.dtypes\n",
    "print(dfs.dtypes)"
   ]
  },
  {
   "cell_type": "code",
   "execution_count": 5,
   "metadata": {
    "ExecuteTime": {
     "end_time": "2023-09-14T22:11:21.221707200Z",
     "start_time": "2023-09-14T22:11:21.182700600Z"
    },
    "collapsed": false,
    "jupyter": {
     "outputs_hidden": false
    }
   },
   "outputs": [
    {
     "name": "stdout",
     "output_type": "stream",
     "text": [
      "    Регіон  1950  1960  1970  1990  2000  2012  2014  2019\n",
      "0      NaN  23.0  20.6  16.0  13.0   7.3  12.6   NaN   NaN\n",
      "1      NaN  22.4  19.2  14.2  12.4   8.4  11.2  10.9   7.6\n",
      "2      NaN  24.7  25.0  17.9  15.3  11.2  14.8  14.1  10.1\n",
      "3      NaN  20.4  20.4  15.1  12.3   7.1  11.2  11.1   7.1\n",
      "4      NaN  27.1  21.4  14.0  10.9   6.1   9.8   8.2   NaN\n",
      "5      NaN  26.1  22.3  15.9  12.9   8.9  12.2  12.0   7.9\n",
      "6      NaN  31.4  27.3  20.7  16.8  11.5  15.1  14.6  10.4\n",
      "7      NaN  21.9  19.7  15.0  12.4   7.1  10.6  10.6   6.8\n",
      "8      NaN  24.3  24.8  18.2  15.5  10.3  12.4  12.2   8.8\n",
      "9      NaN  20.4  18.9  15.6  12.3   7.3  12.2  12.1   8.0\n",
      "10     NaN  21.6  17.1  14.5  12.6   7.9  11.0  10.8   6.8\n",
      "11     NaN  26.2  23.5  14.4  11.6   6.2   9.6   5.1   NaN\n",
      "12     NaN  23.4  24.0  17.1  14.0   9.1  11.9  11.9   8.7\n",
      "13     NaN  21.1  19.4  15.5  13.7   8.0  11.5  11.2   7.1\n",
      "14     NaN  24.1  19.2  14.8  12.6   8.0  12.7  12.3   8.8\n",
      "15     NaN  18.6  16.3  13.1  11.8   7.0   9.9  10.0   6.5\n",
      "16     NaN  26.9  26.7  19.3  15.8  11.8  15.9  14.8  10.7\n",
      "17     NaN  21.6  18.4  13.2  11.5   7.0   9.7   9.2   6.0\n",
      "18     NaN  21.3  21.6  15.7  14.2   9.2  11.3  10.9   7.6\n",
      "19     NaN  19.7  17.3  14.0  11.4   6.8   9.9  10.1   6.8\n",
      "20     NaN  20.8  21.4  16.6  14.3   8.5  11.7  11.5   8.1\n",
      "21     NaN  23.4  19.8  14.8  12.9   8.5  11.3  11.2   7.9\n",
      "22     NaN  20.5  17.9  14.4  12.3   7.5  10.0   9.8   6.4\n",
      "23     NaN  24.7  21.8  17.0  14.8  10.1  12.8  12.9   9.2\n",
      "24     NaN  22.0  18.3  12.7  10.8   6.9   9.4   9.0   6.1\n",
      "25     NaN   NaN  17.4  15.9  12.0   7.3  12.0  12.1  11.0\n",
      "26     NaN   NaN   NaN   NaN  12.5   7.0  12.0   NaN   NaN\n",
      "27     NaN  22.8  20.5  15.2  12.6   7.8  11.4  11.1   8.1\n"
     ]
    }
   ],
   "source": [
    "# Замініть типи нечислових колонок на числові\n",
    "non_numeric_columns = [col for col in dfs.columns if dfs[col].dtype == object]\n",
    "dfs[non_numeric_columns] = dfs[non_numeric_columns].apply(pd.to_numeric, errors='coerce')\n",
    "print(dfs)"
   ]
  },
  {
   "cell_type": "code",
   "execution_count": 6,
   "metadata": {
    "ExecuteTime": {
     "end_time": "2023-09-14T22:11:21.222710200Z",
     "start_time": "2023-09-14T22:11:21.202401400Z"
    },
    "collapsed": false,
    "jupyter": {
     "outputs_hidden": false
    }
   },
   "outputs": [
    {
     "name": "stdout",
     "output_type": "stream",
     "text": [
      "Частка пропусків в кожній колонці:\n",
      "Регіон    100.000000\n",
      "1950        7.142857\n",
      "1960        3.571429\n",
      "1970        3.571429\n",
      "1990        0.000000\n",
      "2000        0.000000\n",
      "2012        0.000000\n",
      "2014        7.142857\n",
      "2019       14.285714\n",
      "dtype: float64\n"
     ]
    }
   ],
   "source": [
    "# Порахуйте, яка частка пропусків міститься в кожній колонці (використовуйте методи isnull та sum)\n",
    "missing_percentage = (dfs.isnull().sum() / len(dfs)) * 100\n",
    "print(\"Частка пропусків в кожній колонці:\")\n",
    "print(missing_percentage)"
   ]
  },
  {
   "cell_type": "code",
   "execution_count": 7,
   "metadata": {
    "ExecuteTime": {
     "end_time": "2023-09-14T22:11:21.234705500Z",
     "start_time": "2023-09-14T22:11:21.215174700Z"
    },
    "collapsed": false,
    "jupyter": {
     "outputs_hidden": false
    }
   },
   "outputs": [
    {
     "name": "stdout",
     "output_type": "stream",
     "text": [
      "    Регіон  1950  1960  1970  1990  2000  2012  2014  2019\n",
      "0      NaN  23.0  20.6  16.0  13.0   7.3  12.6   NaN   NaN\n",
      "1      NaN  22.4  19.2  14.2  12.4   8.4  11.2  10.9   7.6\n",
      "2      NaN  24.7  25.0  17.9  15.3  11.2  14.8  14.1  10.1\n",
      "3      NaN  20.4  20.4  15.1  12.3   7.1  11.2  11.1   7.1\n",
      "4      NaN  27.1  21.4  14.0  10.9   6.1   9.8   8.2   NaN\n",
      "5      NaN  26.1  22.3  15.9  12.9   8.9  12.2  12.0   7.9\n",
      "6      NaN  31.4  27.3  20.7  16.8  11.5  15.1  14.6  10.4\n",
      "7      NaN  21.9  19.7  15.0  12.4   7.1  10.6  10.6   6.8\n",
      "8      NaN  24.3  24.8  18.2  15.5  10.3  12.4  12.2   8.8\n",
      "9      NaN  20.4  18.9  15.6  12.3   7.3  12.2  12.1   8.0\n",
      "10     NaN  21.6  17.1  14.5  12.6   7.9  11.0  10.8   6.8\n",
      "11     NaN  26.2  23.5  14.4  11.6   6.2   9.6   5.1   NaN\n",
      "12     NaN  23.4  24.0  17.1  14.0   9.1  11.9  11.9   8.7\n",
      "13     NaN  21.1  19.4  15.5  13.7   8.0  11.5  11.2   7.1\n",
      "14     NaN  24.1  19.2  14.8  12.6   8.0  12.7  12.3   8.8\n",
      "15     NaN  18.6  16.3  13.1  11.8   7.0   9.9  10.0   6.5\n",
      "16     NaN  26.9  26.7  19.3  15.8  11.8  15.9  14.8  10.7\n",
      "17     NaN  21.6  18.4  13.2  11.5   7.0   9.7   9.2   6.0\n",
      "18     NaN  21.3  21.6  15.7  14.2   9.2  11.3  10.9   7.6\n",
      "19     NaN  19.7  17.3  14.0  11.4   6.8   9.9  10.1   6.8\n",
      "20     NaN  20.8  21.4  16.6  14.3   8.5  11.7  11.5   8.1\n",
      "21     NaN  23.4  19.8  14.8  12.9   8.5  11.3  11.2   7.9\n",
      "22     NaN  20.5  17.9  14.4  12.3   7.5  10.0   9.8   6.4\n",
      "23     NaN  24.7  21.8  17.0  14.8  10.1  12.8  12.9   9.2\n",
      "24     NaN  22.0  18.3  12.7  10.8   6.9   9.4   9.0   6.1\n",
      "25     NaN   NaN  17.4  15.9  12.0   7.3  12.0  12.1  11.0\n",
      "26     NaN   NaN   NaN   NaN  12.5   7.0  12.0   NaN   NaN\n"
     ]
    }
   ],
   "source": [
    "# Видаліть з таблиці дані по всій країні, останній рядок таблиці\n",
    "# dfs = dfs.drop(dfs[dfs['Регіон'] == 'Україна'].index)\n",
    "dfs = dfs.drop(dfs.index[-1])\n",
    "print(dfs)"
   ]
  },
  {
   "cell_type": "code",
   "execution_count": 8,
   "metadata": {
    "ExecuteTime": {
     "end_time": "2023-09-14T22:11:21.377312800Z",
     "start_time": "2023-09-14T22:11:21.234705500Z"
    },
    "collapsed": false,
    "jupyter": {
     "outputs_hidden": false
    }
   },
   "outputs": [
    {
     "name": "stdout",
     "output_type": "stream",
     "text": [
      "    Регіон    1950       1960  1970  1990  2000  2012    2014       2019\n",
      "0      NaN  23.000  20.600000  16.0  13.0   7.3  12.6  11.144   8.017391\n",
      "1      NaN  22.400  19.200000  14.2  12.4   8.4  11.2  10.900   7.600000\n",
      "2      NaN  24.700  25.000000  17.9  15.3  11.2  14.8  14.100  10.100000\n",
      "3      NaN  20.400  20.400000  15.1  12.3   7.1  11.2  11.100   7.100000\n",
      "4      NaN  27.100  21.400000  14.0  10.9   6.1   9.8   8.200   8.017391\n",
      "5      NaN  26.100  22.300000  15.9  12.9   8.9  12.2  12.000   7.900000\n",
      "6      NaN  31.400  27.300000  20.7  16.8  11.5  15.1  14.600  10.400000\n",
      "7      NaN  21.900  19.700000  15.0  12.4   7.1  10.6  10.600   6.800000\n",
      "8      NaN  24.300  24.800000  18.2  15.5  10.3  12.4  12.200   8.800000\n",
      "9      NaN  20.400  18.900000  15.6  12.3   7.3  12.2  12.100   8.000000\n",
      "10     NaN  21.600  17.100000  14.5  12.6   7.9  11.0  10.800   6.800000\n",
      "11     NaN  26.200  23.500000  14.4  11.6   6.2   9.6   5.100   8.017391\n",
      "12     NaN  23.400  24.000000  17.1  14.0   9.1  11.9  11.900   8.700000\n",
      "13     NaN  21.100  19.400000  15.5  13.7   8.0  11.5  11.200   7.100000\n",
      "14     NaN  24.100  19.200000  14.8  12.6   8.0  12.7  12.300   8.800000\n",
      "15     NaN  18.600  16.300000  13.1  11.8   7.0   9.9  10.000   6.500000\n",
      "16     NaN  26.900  26.700000  19.3  15.8  11.8  15.9  14.800  10.700000\n",
      "17     NaN  21.600  18.400000  13.2  11.5   7.0   9.7   9.200   6.000000\n",
      "18     NaN  21.300  21.600000  15.7  14.2   9.2  11.3  10.900   7.600000\n",
      "19     NaN  19.700  17.300000  14.0  11.4   6.8   9.9  10.100   6.800000\n",
      "20     NaN  20.800  21.400000  16.6  14.3   8.5  11.7  11.500   8.100000\n",
      "21     NaN  23.400  19.800000  14.8  12.9   8.5  11.3  11.200   7.900000\n",
      "22     NaN  20.500  17.900000  14.4  12.3   7.5  10.0   9.800   6.400000\n",
      "23     NaN  24.700  21.800000  17.0  14.8  10.1  12.8  12.900   9.200000\n",
      "24     NaN  22.000  18.300000  12.7  10.8   6.9   9.4   9.000   6.100000\n",
      "25     NaN  23.104  17.400000  15.9  12.0   7.3  12.0  12.100  11.000000\n",
      "26     NaN  23.104  20.757692  15.6  12.5   7.0  12.0  11.144   8.017391\n"
     ]
    }
   ],
   "source": [
    "# Замініть відсутні дані в стовпцях середніми значеннями цих стовпців (метод fillna)\n",
    "dfs = dfs.fillna(dfs.mean())\n",
    "print(dfs)"
   ]
  },
  {
   "cell_type": "code",
   "execution_count": 9,
   "metadata": {
    "ExecuteTime": {
     "end_time": "2023-09-14T22:11:21.377822400Z",
     "start_time": "2023-09-14T22:11:21.257756600Z"
    },
    "collapsed": false,
    "jupyter": {
     "outputs_hidden": false
    }
   },
   "outputs": [
    {
     "name": "stdout",
     "output_type": "stream",
     "text": [
      "Регіони з вищим рівнем народжуваності у 2019 році:\n",
      "[nan, nan, nan, nan, nan, nan, nan, nan, nan]\n"
     ]
    }
   ],
   "source": [
    "# Отримайте список регіонів, де рівень народжуваності у 2019 році був вищим за середній по Україні\n",
    "average_birthrate_ukraine = dfs['2019'].mean()\n",
    "regions_above_average_2019 = dfs[dfs['2019'] > average_birthrate_ukraine]['Регіон'].tolist()\n",
    "print(\"Регіони з вищим рівнем народжуваності у 2019 році:\")\n",
    "print(regions_above_average_2019)"
   ]
  },
  {
   "cell_type": "code",
   "execution_count": 13,
   "metadata": {
    "ExecuteTime": {
     "end_time": "2023-09-14T22:11:21.377822400Z",
     "start_time": "2023-09-14T22:11:21.266452600Z"
    },
    "collapsed": false,
    "jupyter": {
     "outputs_hidden": false
    }
   },
   "outputs": [
    {
     "name": "stdout",
     "output_type": "stream",
     "text": [
      "Найвища народжуваність у 2014 році була в регіоні: Крим\n"
     ]
    }
   ],
   "source": [
    "# У якому регіоні була найвища народжуваність у 2014 році?\n",
    "region_with_highest_birthrate_2014 = dfs[dfs['2014'] == dfs['2014'].max()]['Регіон'].values[0]\n",
    "print(f\"Найвища народжуваність у 2014 році була в регіоні: {region_with_highest_birthrate_2014}\")"
   ]
  },
  {
   "cell_type": "code",
   "execution_count": 11,
   "metadata": {
    "ExecuteTime": {
     "end_time": "2023-09-14T22:11:21.530528500Z",
     "start_time": "2023-09-14T22:11:21.276605800Z"
    },
    "collapsed": false,
    "jupyter": {
     "outputs_hidden": false
    }
   },
   "outputs": [
    {
     "data": {
      "image/png": "[encoded data removed]",
      "text/plain": [
       "<Figure size 1200x600 with 1 Axes>"
      ]
     },
     "metadata": {},
     "output_type": "display_data"
    }
   ],
   "source": [
    "# Побудуйте стовпчикову діаграму народжуваності по регіонах у 2019 році\n",
    "import matplotlib.pyplot as plt\n",
    "import mplcyberpunk\n",
    "\n",
    "plt.style.use(\"cyberpunk\")\n",
    "\n",
    "# Побудуйте стовпчикову діаграму народжуваності по регіонах у 2019 році\n",
    "dfs.plot(x='Регіон', y='2019', kind='bar', figsize=(12, 6))\n",
    "plt.xlabel('Регіон')\n",
    "plt.ylabel('Народжуваність у 2019 році')\n",
    "plt.title('Народжуваність по регіонах у 2019 році')\n",
    "plt.xticks(rotation=90)\n",
    "\n",
    "# Застосуйте стиль mplcyberpunk\n",
    "mplcyberpunk.add_glow_effects()\n",
    "mplcyberpunk.make_lines_glow()\n",
    "\n",
    "plt.show()"
   ]
  }
 ],
 "metadata": {
  "kernelspec": {
   "display_name": "Python 3 (ipykernel)",
   "language": "python",
   "name": "python3"
  },
  "language_info": {
   "codemirror_mode": {
    "name": "ipython",
    "version": 3
   },
   "file_extension": ".py",
   "mimetype": "text/x-python",
   "name": "python",
   "nbconvert_exporter": "python",
   "pygments_lexer": "ipython3",
   "version": "3.11.4"
  }
 },
 "nbformat": 4,
 "nbformat_minor": 4
}

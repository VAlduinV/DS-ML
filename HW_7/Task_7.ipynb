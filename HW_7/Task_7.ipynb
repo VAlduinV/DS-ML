{
 "cells": [
  {
   "cell_type": "code",
   "execution_count": null,
   "metadata": {
    "collapsed": true,
    "is_executing": true
   },
   "outputs": [],
   "source": [
    "from surprise import SVD, SVDpp, NMF, Dataset, accuracy\n",
    "from surprise.model_selection import cross_validate\n",
    "\n",
    "# 1. Імпорт бібліотек і завантаження даних\n",
    "data = Dataset.load_builtin('ml-100k')  # змініть назву датасету, якщо потрібно\n",
    "\n",
    "# Створення моделі SVD\n",
    "algo_svd = SVD(n_epochs=20, lr_all=0.005, reg_all=0.4)\n",
    "\n",
    "# Крос-валідація для моделі SVD\n",
    "cv_results_svd = cross_validate(algo_svd, data, measures=['rmse', 'mae'], cv=5)\n",
    "print(\"SVD - Середній RMSE:\", cv_results_svd['test_rmse'].mean())\n",
    "print(\"SVD - Середній MAE:\", cv_results_svd['test_mae'].mean())\n",
    "\n",
    "# Створення моделі SVD++\n",
    "algo_svdpp = SVDpp(n_epochs=20, lr_all=0.005, reg_all=0.4)\n",
    "\n",
    "# Крос-валідація для моделі SVD++\n",
    "cv_results_svdpp = cross_validate(algo_svdpp, data, measures=['rmse', 'mae'], cv=5)\n",
    "print(\"SVD++ - Середній RMSE:\", cv_results_svdpp['test_rmse'].mean())\n",
    "print(\"SVD++ - Середній MAE:\", cv_results_svdpp['test_mae'].mean())\n",
    "\n",
    "# Створення моделі NMF\n",
    "algo_nmf = NMF(n_epochs=20, reg_pu=0.4, reg_qi=0.4)\n",
    "\n",
    "# Крос-валідація для моделі NMF\n",
    "cv_results_nmf = cross_validate(algo_nmf, data, measures=['rmse', 'mae'], cv=5)\n",
    "print(\"NMF - Середній RMSE:\", cv_results_nmf['test_rmse'].mean())\n",
    "print(\"NMF - Середній MAE:\", cv_results_nmf['test_mae'].mean())\n"
   ]
  }
 ],
 "metadata": {
  "kernelspec": {
   "display_name": "Python 3",
   "language": "python",
   "name": "python3"
  },
  "language_info": {
   "codemirror_mode": {
    "name": "ipython",
    "version": 2
   },
   "file_extension": ".py",
   "mimetype": "text/x-python",
   "name": "python",
   "nbconvert_exporter": "python",
   "pygments_lexer": "ipython2",
   "version": "2.7.6"
  }
 },
 "nbformat": 4,
 "nbformat_minor": 0
}

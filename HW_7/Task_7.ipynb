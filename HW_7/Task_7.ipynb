{
 "cells": [
  {
   "cell_type": "code",
   "execution_count": 26,
   "metadata": {
    "collapsed": true,
    "ExecuteTime": {
     "end_time": "2023-10-12T18:27:16.632546Z",
     "start_time": "2023-10-12T18:14:53.226882100Z"
    }
   },
   "outputs": [
    {
     "name": "stdout",
     "output_type": "stream",
     "text": [
      "SVD - Найкращий RMSE: 0.9568162766078174\n",
      "Параметри для найкращої моделі SVD: {'n_epochs': 20, 'lr_all': 0.005, 'reg_all': 0.4}\n",
      "SVD++ - Найкращий RMSE: 0.956698018484768\n",
      "Параметри для найкращої моделі SVD++: {'n_epochs': 20, 'lr_all': 0.005, 'reg_all': 0.4}\n",
      "NMF - Найкращий RMSE: 1.027785550020639\n",
      "Параметри для найкращої моделі NMF: {'n_epochs': 10, 'reg_pu': 0.4, 'reg_qi': 0.4}\n",
      "Найкраща модель: SVD++ з RMSE: 0.956698018484768\n"
     ]
    }
   ],
   "source": [
    "from surprise import SVD, SVDpp, NMF, Dataset, accuracy\n",
    "from surprise.model_selection import cross_validate, GridSearchCV\n",
    "\n",
    "# 1. Імпорт бібліотек і завантаження даних\n",
    "data = Dataset.load_builtin('ml-100k')  # змініть назву датасету, якщо потрібно\n",
    "\n",
    "# Параметри для SVD і SVD++\n",
    "param_grid_svd = {\n",
    "    'n_epochs': [5, 10, 20],\n",
    "    'lr_all': [0.002, 0.005],\n",
    "    'reg_all': [0.4, 0.6]\n",
    "}\n",
    "\n",
    "gs_svd = GridSearchCV(SVD, param_grid_svd, measures=['rmse', 'mae'], cv=5)\n",
    "gs_svd.fit(data)\n",
    "\n",
    "print(\"SVD - Найкращий RMSE:\", gs_svd.best_score['rmse'])\n",
    "print(\"Параметри для найкращої моделі SVD:\", gs_svd.best_params['rmse'])\n",
    "\n",
    "# Експерименти з SVD++\n",
    "gs_svdpp = GridSearchCV(SVDpp, param_grid_svd, measures=['rmse', 'mae'], cv=5)\n",
    "gs_svdpp.fit(data)\n",
    "\n",
    "print(\"SVD++ - Найкращий RMSE:\", gs_svdpp.best_score['rmse'])\n",
    "print(\"Параметри для найкращої моделі SVD++:\", gs_svdpp.best_params['rmse'])\n",
    "\n",
    "# Параметри для NMF\n",
    "param_grid_nmf = {\n",
    "    'n_epochs': [5, 10, 20],\n",
    "    'reg_pu': [0.4, 0.6],\n",
    "    'reg_qi': [0.4, 0.6]\n",
    "}\n",
    "\n",
    "gs_nmf = GridSearchCV(NMF, param_grid_nmf, measures=['rmse', 'mae'], cv=5)\n",
    "gs_nmf.fit(data)\n",
    "\n",
    "print(\"NMF - Найкращий RMSE:\", gs_nmf.best_score['rmse'])\n",
    "print(\"Параметри для найкращої моделі NMF:\", gs_nmf.best_params['rmse'])\n",
    "\n",
    "# Ось так можна обрати найкращу модель на основі RMSE:\n",
    "models = {\n",
    "    \"SVD\": gs_svd.best_score['rmse'],\n",
    "    \"SVD++\": gs_svdpp.best_score['rmse'],\n",
    "    \"NMF\": gs_nmf.best_score['rmse']\n",
    "}\n",
    "\n",
    "best_model_name = min(models, key=models.get)\n",
    "print(f\"Найкраща модель: {best_model_name} з RMSE: {models[best_model_name]}\")\n"
   ]
  }
 ],
 "metadata": {
  "kernelspec": {
   "display_name": "Python 3",
   "language": "python",
   "name": "python3"
  },
  "language_info": {
   "codemirror_mode": {
    "name": "ipython",
    "version": 2
   },
   "file_extension": ".py",
   "mimetype": "text/x-python",
   "name": "python",
   "nbconvert_exporter": "python",
   "pygments_lexer": "ipython2",
   "version": "2.7.6"
  }
 },
 "nbformat": 4,
 "nbformat_minor": 0
}
